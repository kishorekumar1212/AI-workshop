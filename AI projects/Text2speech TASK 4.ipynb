{
  "nbformat": 4,
  "nbformat_minor": 0,
  "metadata": {
    "colab": {
      "provenance": []
    },
    "kernelspec": {
      "name": "python3",
      "display_name": "Python 3"
    },
    "language_info": {
      "name": "python"
    },
    "widgets": {
      "application/vnd.jupyter.widget-state+json": {
        "f39a633d4da04a0b91909065ceccdea7": {
          "model_module": "@jupyter-widgets/controls",
          "model_name": "HBoxModel",
          "model_module_version": "1.5.0",
          "state": {
            "_dom_classes": [],
            "_model_module": "@jupyter-widgets/controls",
            "_model_module_version": "1.5.0",
            "_model_name": "HBoxModel",
            "_view_count": null,
            "_view_module": "@jupyter-widgets/controls",
            "_view_module_version": "1.5.0",
            "_view_name": "HBoxView",
            "box_style": "",
            "children": [
              "IPY_MODEL_44ca926459a440959db08d68b236d0ac",
              "IPY_MODEL_2c8eed31cadb4450bd33638f5b4bd452",
              "IPY_MODEL_6e5b15d4f18f4246a2df98d6d567b890"
            ],
            "layout": "IPY_MODEL_b552f1a394a541bbb7e7537dfa1625f4"
          }
        },
        "44ca926459a440959db08d68b236d0ac": {
          "model_module": "@jupyter-widgets/controls",
          "model_name": "HTMLModel",
          "model_module_version": "1.5.0",
          "state": {
            "_dom_classes": [],
            "_model_module": "@jupyter-widgets/controls",
            "_model_module_version": "1.5.0",
            "_model_name": "HTMLModel",
            "_view_count": null,
            "_view_module": "@jupyter-widgets/controls",
            "_view_module_version": "1.5.0",
            "_view_name": "HTMLView",
            "description": "",
            "description_tooltip": null,
            "layout": "IPY_MODEL_55c4d6e2a88241d9a0bca3e651f50ea7",
            "placeholder": "​",
            "style": "IPY_MODEL_d3978192dca7458caca0ddd747824bfc",
            "value": "Fetching 27 files: 100%"
          }
        },
        "2c8eed31cadb4450bd33638f5b4bd452": {
          "model_module": "@jupyter-widgets/controls",
          "model_name": "FloatProgressModel",
          "model_module_version": "1.5.0",
          "state": {
            "_dom_classes": [],
            "_model_module": "@jupyter-widgets/controls",
            "_model_module_version": "1.5.0",
            "_model_name": "FloatProgressModel",
            "_view_count": null,
            "_view_module": "@jupyter-widgets/controls",
            "_view_module_version": "1.5.0",
            "_view_name": "ProgressView",
            "bar_style": "success",
            "description": "",
            "description_tooltip": null,
            "layout": "IPY_MODEL_8639f8ea6029454daedddd50de78c259",
            "max": 27,
            "min": 0,
            "orientation": "horizontal",
            "style": "IPY_MODEL_df236b5531164ca7ba5c9a9cda9ce24b",
            "value": 27
          }
        },
        "6e5b15d4f18f4246a2df98d6d567b890": {
          "model_module": "@jupyter-widgets/controls",
          "model_name": "HTMLModel",
          "model_module_version": "1.5.0",
          "state": {
            "_dom_classes": [],
            "_model_module": "@jupyter-widgets/controls",
            "_model_module_version": "1.5.0",
            "_model_name": "HTMLModel",
            "_view_count": null,
            "_view_module": "@jupyter-widgets/controls",
            "_view_module_version": "1.5.0",
            "_view_name": "HTMLView",
            "description": "",
            "description_tooltip": null,
            "layout": "IPY_MODEL_558aa6153a4c4dfba1c3b6450ec249e4",
            "placeholder": "​",
            "style": "IPY_MODEL_2df8e55b9d994440a73201d10b5dda4e",
            "value": " 27/27 [00:00&lt;00:00, 747.43it/s]"
          }
        },
        "b552f1a394a541bbb7e7537dfa1625f4": {
          "model_module": "@jupyter-widgets/base",
          "model_name": "LayoutModel",
          "model_module_version": "1.2.0",
          "state": {
            "_model_module": "@jupyter-widgets/base",
            "_model_module_version": "1.2.0",
            "_model_name": "LayoutModel",
            "_view_count": null,
            "_view_module": "@jupyter-widgets/base",
            "_view_module_version": "1.2.0",
            "_view_name": "LayoutView",
            "align_content": null,
            "align_items": null,
            "align_self": null,
            "border": null,
            "bottom": null,
            "display": null,
            "flex": null,
            "flex_flow": null,
            "grid_area": null,
            "grid_auto_columns": null,
            "grid_auto_flow": null,
            "grid_auto_rows": null,
            "grid_column": null,
            "grid_gap": null,
            "grid_row": null,
            "grid_template_areas": null,
            "grid_template_columns": null,
            "grid_template_rows": null,
            "height": null,
            "justify_content": null,
            "justify_items": null,
            "left": null,
            "margin": null,
            "max_height": null,
            "max_width": null,
            "min_height": null,
            "min_width": null,
            "object_fit": null,
            "object_position": null,
            "order": null,
            "overflow": null,
            "overflow_x": null,
            "overflow_y": null,
            "padding": null,
            "right": null,
            "top": null,
            "visibility": null,
            "width": null
          }
        },
        "55c4d6e2a88241d9a0bca3e651f50ea7": {
          "model_module": "@jupyter-widgets/base",
          "model_name": "LayoutModel",
          "model_module_version": "1.2.0",
          "state": {
            "_model_module": "@jupyter-widgets/base",
            "_model_module_version": "1.2.0",
            "_model_name": "LayoutModel",
            "_view_count": null,
            "_view_module": "@jupyter-widgets/base",
            "_view_module_version": "1.2.0",
            "_view_name": "LayoutView",
            "align_content": null,
            "align_items": null,
            "align_self": null,
            "border": null,
            "bottom": null,
            "display": null,
            "flex": null,
            "flex_flow": null,
            "grid_area": null,
            "grid_auto_columns": null,
            "grid_auto_flow": null,
            "grid_auto_rows": null,
            "grid_column": null,
            "grid_gap": null,
            "grid_row": null,
            "grid_template_areas": null,
            "grid_template_columns": null,
            "grid_template_rows": null,
            "height": null,
            "justify_content": null,
            "justify_items": null,
            "left": null,
            "margin": null,
            "max_height": null,
            "max_width": null,
            "min_height": null,
            "min_width": null,
            "object_fit": null,
            "object_position": null,
            "order": null,
            "overflow": null,
            "overflow_x": null,
            "overflow_y": null,
            "padding": null,
            "right": null,
            "top": null,
            "visibility": null,
            "width": null
          }
        },
        "d3978192dca7458caca0ddd747824bfc": {
          "model_module": "@jupyter-widgets/controls",
          "model_name": "DescriptionStyleModel",
          "model_module_version": "1.5.0",
          "state": {
            "_model_module": "@jupyter-widgets/controls",
            "_model_module_version": "1.5.0",
            "_model_name": "DescriptionStyleModel",
            "_view_count": null,
            "_view_module": "@jupyter-widgets/base",
            "_view_module_version": "1.2.0",
            "_view_name": "StyleView",
            "description_width": ""
          }
        },
        "8639f8ea6029454daedddd50de78c259": {
          "model_module": "@jupyter-widgets/base",
          "model_name": "LayoutModel",
          "model_module_version": "1.2.0",
          "state": {
            "_model_module": "@jupyter-widgets/base",
            "_model_module_version": "1.2.0",
            "_model_name": "LayoutModel",
            "_view_count": null,
            "_view_module": "@jupyter-widgets/base",
            "_view_module_version": "1.2.0",
            "_view_name": "LayoutView",
            "align_content": null,
            "align_items": null,
            "align_self": null,
            "border": null,
            "bottom": null,
            "display": null,
            "flex": null,
            "flex_flow": null,
            "grid_area": null,
            "grid_auto_columns": null,
            "grid_auto_flow": null,
            "grid_auto_rows": null,
            "grid_column": null,
            "grid_gap": null,
            "grid_row": null,
            "grid_template_areas": null,
            "grid_template_columns": null,
            "grid_template_rows": null,
            "height": null,
            "justify_content": null,
            "justify_items": null,
            "left": null,
            "margin": null,
            "max_height": null,
            "max_width": null,
            "min_height": null,
            "min_width": null,
            "object_fit": null,
            "object_position": null,
            "order": null,
            "overflow": null,
            "overflow_x": null,
            "overflow_y": null,
            "padding": null,
            "right": null,
            "top": null,
            "visibility": null,
            "width": null
          }
        },
        "df236b5531164ca7ba5c9a9cda9ce24b": {
          "model_module": "@jupyter-widgets/controls",
          "model_name": "ProgressStyleModel",
          "model_module_version": "1.5.0",
          "state": {
            "_model_module": "@jupyter-widgets/controls",
            "_model_module_version": "1.5.0",
            "_model_name": "ProgressStyleModel",
            "_view_count": null,
            "_view_module": "@jupyter-widgets/base",
            "_view_module_version": "1.2.0",
            "_view_name": "StyleView",
            "bar_color": null,
            "description_width": ""
          }
        },
        "558aa6153a4c4dfba1c3b6450ec249e4": {
          "model_module": "@jupyter-widgets/base",
          "model_name": "LayoutModel",
          "model_module_version": "1.2.0",
          "state": {
            "_model_module": "@jupyter-widgets/base",
            "_model_module_version": "1.2.0",
            "_model_name": "LayoutModel",
            "_view_count": null,
            "_view_module": "@jupyter-widgets/base",
            "_view_module_version": "1.2.0",
            "_view_name": "LayoutView",
            "align_content": null,
            "align_items": null,
            "align_self": null,
            "border": null,
            "bottom": null,
            "display": null,
            "flex": null,
            "flex_flow": null,
            "grid_area": null,
            "grid_auto_columns": null,
            "grid_auto_flow": null,
            "grid_auto_rows": null,
            "grid_column": null,
            "grid_gap": null,
            "grid_row": null,
            "grid_template_areas": null,
            "grid_template_columns": null,
            "grid_template_rows": null,
            "height": null,
            "justify_content": null,
            "justify_items": null,
            "left": null,
            "margin": null,
            "max_height": null,
            "max_width": null,
            "min_height": null,
            "min_width": null,
            "object_fit": null,
            "object_position": null,
            "order": null,
            "overflow": null,
            "overflow_x": null,
            "overflow_y": null,
            "padding": null,
            "right": null,
            "top": null,
            "visibility": null,
            "width": null
          }
        },
        "2df8e55b9d994440a73201d10b5dda4e": {
          "model_module": "@jupyter-widgets/controls",
          "model_name": "DescriptionStyleModel",
          "model_module_version": "1.5.0",
          "state": {
            "_model_module": "@jupyter-widgets/controls",
            "_model_module_version": "1.5.0",
            "_model_name": "DescriptionStyleModel",
            "_view_count": null,
            "_view_module": "@jupyter-widgets/base",
            "_view_module_version": "1.2.0",
            "_view_name": "StyleView",
            "description_width": ""
          }
        }
      }
    }
  },
  "cells": [
    {
      "cell_type": "code",
      "execution_count": 12,
      "metadata": {
        "colab": {
          "base_uri": "https://localhost:8080/",
          "height": 526,
          "referenced_widgets": [
            "f39a633d4da04a0b91909065ceccdea7",
            "44ca926459a440959db08d68b236d0ac",
            "2c8eed31cadb4450bd33638f5b4bd452",
            "6e5b15d4f18f4246a2df98d6d567b890",
            "b552f1a394a541bbb7e7537dfa1625f4",
            "55c4d6e2a88241d9a0bca3e651f50ea7",
            "d3978192dca7458caca0ddd747824bfc",
            "8639f8ea6029454daedddd50de78c259",
            "df236b5531164ca7ba5c9a9cda9ce24b",
            "558aa6153a4c4dfba1c3b6450ec249e4",
            "2df8e55b9d994440a73201d10b5dda4e"
          ]
        },
        "id": "EmS8vQzqsokX",
        "outputId": "0b335671-a1c9-4d44-d7c2-6c372b55b602"
      },
      "outputs": [
        {
          "output_type": "stream",
          "name": "stdout",
          "text": [
            "Requirement already satisfied: nltk in /usr/local/lib/python3.10/dist-packages (3.9.1)\n",
            "Requirement already satisfied: click in /usr/local/lib/python3.10/dist-packages (from nltk) (8.1.7)\n",
            "Requirement already satisfied: joblib in /usr/local/lib/python3.10/dist-packages (from nltk) (1.4.2)\n",
            "Requirement already satisfied: regex>=2021.8.3 in /usr/local/lib/python3.10/dist-packages (from nltk) (2024.9.11)\n",
            "Requirement already satisfied: tqdm in /usr/local/lib/python3.10/dist-packages (from nltk) (4.66.6)\n"
          ]
        },
        {
          "output_type": "stream",
          "name": "stderr",
          "text": [
            "[nltk_data] Downloading package averaged_perceptron_tagger_eng to\n",
            "[nltk_data]     /root/nltk_data...\n",
            "[nltk_data]   Package averaged_perceptron_tagger_eng is already up-to-\n",
            "[nltk_data]       date!\n"
          ]
        },
        {
          "output_type": "display_data",
          "data": {
            "text/plain": [
              "Fetching 27 files:   0%|          | 0/27 [00:00<?, ?it/s]"
            ],
            "application/vnd.jupyter.widget-view+json": {
              "version_major": 2,
              "version_minor": 0,
              "model_id": "f39a633d4da04a0b91909065ceccdea7"
            }
          },
          "metadata": {}
        },
        {
          "output_type": "stream",
          "name": "stderr",
          "text": [
            "/usr/local/lib/python3.10/dist-packages/torch/nn/utils/weight_norm.py:143: FutureWarning: `torch.nn.utils.weight_norm` is deprecated in favor of `torch.nn.utils.parametrizations.weight_norm`.\n",
            "  WeightNorm.apply(module, name, dim)\n",
            "/usr/local/lib/python3.10/dist-packages/espnet2/tasks/abs_task.py:2069: FutureWarning: You are using `torch.load` with `weights_only=False` (the current default value), which uses the default pickle module implicitly. It is possible to construct malicious pickle data which will execute arbitrary code during unpickling (See https://github.com/pytorch/pytorch/blob/main/SECURITY.md#untrusted-models for more details). In a future release, the default value for `weights_only` will be flipped to `True`. This limits the functions that could be executed during unpickling. Arbitrary objects will no longer be allowed to be loaded via this mode unless they are explicitly allowlisted by the user via `torch.serialization.add_safe_globals`. We recommend you start setting `weights_only=True` for any use case where you don't have full control of the loaded file. Please open an issue on GitHub for any issues related to this experimental feature.\n",
            "  torch.load(model_file, map_location=device),\n"
          ]
        },
        {
          "output_type": "stream",
          "name": "stdout",
          "text": [
            "It seems weight norm is not applied in the pretrained model but the current model uses it. To keep the compatibility, we remove the norm from the current model. This may cause unexpected behavior due to the parameter mismatch in finetuning. To avoid this issue, please change the following parameters in config to false:\n",
            " - discriminator_params.follow_official_norm\n",
            " - discriminator_params.scale_discriminator_params.use_weight_norm\n",
            " - discriminator_params.scale_discriminator_params.use_spectral_norm\n",
            "\n",
            "See also:\n",
            " - https://github.com/espnet/espnet/pull/5240\n",
            " - https://github.com/espnet/espnet/pull/5249\n",
            "Enter the text you want to convert to speech: hi\n",
            "output.wav\n"
          ]
        },
        {
          "output_type": "execute_result",
          "data": {
            "text/plain": [
              "<IPython.lib.display.Audio object>"
            ],
            "text/html": [
              "\n",
              "                <audio  controls=\"controls\" autoplay=\"autoplay\">\n",
              "                    <source src=\"data:audio/x-wav;base64,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\" type=\"audio/x-wav\" />\n",
              "                    Your browser does not support the audio element.\n",
              "                </audio>\n",
              "              "
            ]
          },
          "metadata": {},
          "execution_count": 12
        }
      ],
      "source": [
        "!pip install nltk\n",
        "import nltk\n",
        "nltk.download('averaged_perceptron_tagger_eng')\n",
        "\n",
        "from espnet2.bin.tts_inference import Text2Speech\n",
        "import soundfile as sf\n",
        "# Import the Audio class from IPython.display\n",
        "from IPython.display import Audio\n",
        "\n",
        "# Load a pre-trained TTS model\n",
        "tts = Text2Speech.from_pretrained(\"espnet/kan-bayashi_ljspeech_vits\")\n",
        "\n",
        "# Input text\n",
        "text = input(\"Enter the text you want to convert to speech: \")\n",
        "\n",
        "# Generate speech\n",
        "speech = tts(text)[\"wav\"]\n",
        "\n",
        "# Save the output to a file\n",
        "sf.write(\"output.wav\", speech.numpy(), 22050)\n",
        "\n",
        "print(\"output.wav\")\n",
        "Audio(\"output.wav\", autoplay=True)"
      ]
    }
  ]
}